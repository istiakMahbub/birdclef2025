{
 "cells": [
  {
   "cell_type": "markdown",
   "id": "6f2b2af9",
   "metadata": {},
   "source": [
    "### Inference Pipeline Testing with train_soundscapes (Random Forest)\n",
    "This notebook demonstrates the pipeline testing process for the trained Random Forest model using the provided train_soundscapes dataset instead of the hidden test set.\n",
    "\n",
    "***Objective:***\n",
    "Before submitting the final inference notebook to the BirdCLEF 2025 competition, this notebook verifies whether:\n",
    "\n",
    "- The preprocessing steps (chunking, mel feature extraction) align with training.\n",
    "- The model produces valid predictions in the required format (row_id + probability vector).\n",
    "- The label mapping and chunk timing convention are correctly followed.\n",
    "\n",
    "***Data Used:***\n",
    "- Input audio: train_soundscapes/\n",
    "- Trained model: random_forest_model.pkl\n",
    "- Label encoder: label_encoder.pkl\n",
    "\n",
    "***Outcome:***\n",
    "If this inference notebook runs successfully and produces a correctly formatted CSV file, it confirms that the pipeline is ready for Kaggle test-time inference using test_soundscapes/."
   ]
  },
  {
   "cell_type": "code",
   "execution_count": null,
   "id": "2446cb06",
   "metadata": {},
   "outputs": [
    {
     "name": "stderr",
     "output_type": "stream",
     "text": [
      "100%|██████████| 700/700 [04:37<00:00,  2.52it/s]\n"
     ]
    },
    {
     "name": "stdout",
     "output_type": "stream",
     "text": [
      "✅ Saved predictions to submission.csv\n"
     ]
    }
   ],
   "source": [
    "import os\n",
    "import numpy as np\n",
    "import pandas as pd\n",
    "import librosa\n",
    "import joblib\n",
    "from tqdm import tqdm\n",
    "\n",
    "# === CONFIG ===\n",
    "TEST_DIR = \"data/train_soundscapes\"   # change to test_soundscapes on final run\n",
    "MODEL_PATH = \"random_forest_model_v2.pkl\"\n",
    "ENCODER_PATH = \"label_encoder_v2.pkl\"\n",
    "SUBMISSION_PATH = \"submission.csv\"\n",
    "\n",
    "CHUNK_DURATION = 5  # seconds\n",
    "SR = 32000\n",
    "N_MELS = 64\n",
    "TRAIN_CSV_PATH = \"data/train.csv\"\n",
    "\n",
    "# === Load model and label encoder ===\n",
    "model = joblib.load(MODEL_PATH)\n",
    "le = joblib.load(ENCODER_PATH)\n",
    "species_ids = sorted(le.classes_.tolist())\n",
    "\n",
    "# === Helper functions ===\n",
    "def split_into_chunks(y, sr, chunk_duration=5):\n",
    "    step = chunk_duration * sr\n",
    "    return [y[i:i+step] for i in range(0, len(y), step) if len(y[i:i+step]) == step]\n",
    "\n",
    "def waveform_to_feature(chunk, sr=SR, n_mels=N_MELS):\n",
    "    mel = librosa.feature.melspectrogram(y=chunk, sr=sr, n_mels=n_mels)\n",
    "    mel_db = librosa.power_to_db(mel, ref=np.max)\n",
    "    mean = mel_db.mean(axis=1)\n",
    "    std = mel_db.std(axis=1)\n",
    "    return np.concatenate([mean, std])  # (128,)\n",
    "\n",
    "# === Inference ===\n",
    "results = []\n",
    "\n",
    "for fname in tqdm(sorted(os.listdir(TEST_DIR))):\n",
    "    if not fname.endswith(\".ogg\"): continue\n",
    "\n",
    "    filepath = os.path.join(TEST_DIR, fname)\n",
    "    y, _ = librosa.load(filepath, sr=SR)\n",
    "\n",
    "    # Skip human voice trimming\n",
    "    chunks = split_into_chunks(y, SR, CHUNK_DURATION)\n",
    "\n",
    "    for i, chunk in enumerate(chunks):\n",
    "        feature = waveform_to_feature(chunk)  # (128,)\n",
    "        feature = feature.reshape(1, -1)\n",
    "        probs = model.predict_proba(feature)[0]\n",
    "\n",
    "        pred_vector = [0.0] * len(species_ids)\n",
    "        for label_idx, prob in zip(model.classes_, probs):\n",
    "            species = le.inverse_transform([label_idx])[0]\n",
    "            index = species_ids.index(species)\n",
    "            pred_vector[index] = prob\n",
    "\n",
    "        end_time = (i + 1) * CHUNK_DURATION\n",
    "        row_id = f\"{fname[:-4]}_{end_time}\"\n",
    "        row = [row_id] + pred_vector\n",
    "        results.append(row)\n",
    "\n",
    "# === Save submission ===\n",
    "submission_df = pd.DataFrame(results, columns=[\"row_id\"] + species_ids)\n",
    "submission_df.to_csv(SUBMISSION_PATH, index=False)\n",
    "print(f\"Saved predictions to {SUBMISSION_PATH}\")"
   ]
  }
 ],
 "metadata": {
  "kernelspec": {
   "display_name": "myenv",
   "language": "python",
   "name": "python3"
  },
  "language_info": {
   "codemirror_mode": {
    "name": "ipython",
    "version": 3
   },
   "file_extension": ".py",
   "mimetype": "text/x-python",
   "name": "python",
   "nbconvert_exporter": "python",
   "pygments_lexer": "ipython3",
   "version": "3.12.7"
  }
 },
 "nbformat": 4,
 "nbformat_minor": 5
}

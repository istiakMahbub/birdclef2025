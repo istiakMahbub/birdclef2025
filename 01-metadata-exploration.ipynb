{
 "cells": [
  {
   "cell_type": "markdown",
   "id": "b8bdd5bb",
   "metadata": {},
   "source": [
    "## Metadata Exploration Insights"
   ]
  },
  {
   "cell_type": "code",
   "execution_count": 73,
   "id": "024d6294",
   "metadata": {},
   "outputs": [],
   "source": [
    "import pandas as pd\n",
    "metadata = pd.read_csv(\"data/taxonomy.csv\")"
   ]
  },
  {
   "cell_type": "code",
   "execution_count": 74,
   "id": "e2bfb5f1",
   "metadata": {},
   "outputs": [
    {
     "name": "stdout",
     "output_type": "stream",
     "text": [
      "<class 'pandas.core.frame.DataFrame'>\n",
      "RangeIndex: 206 entries, 0 to 205\n",
      "Data columns (total 5 columns):\n",
      " #   Column           Non-Null Count  Dtype \n",
      "---  ------           --------------  ----- \n",
      " 0   primary_label    206 non-null    object\n",
      " 1   inat_taxon_id    206 non-null    int64 \n",
      " 2   scientific_name  206 non-null    object\n",
      " 3   common_name      206 non-null    object\n",
      " 4   class_name       206 non-null    object\n",
      "dtypes: int64(1), object(4)\n",
      "memory usage: 8.2+ KB\n"
     ]
    }
   ],
   "source": [
    "metadata.info()"
   ]
  },
  {
   "cell_type": "code",
   "execution_count": 75,
   "id": "fe9dae60",
   "metadata": {},
   "outputs": [
    {
     "data": {
      "text/plain": [
       "(206, 5)"
      ]
     },
     "execution_count": 75,
     "metadata": {},
     "output_type": "execute_result"
    }
   ],
   "source": [
    "metadata.shape"
   ]
  },
  {
   "cell_type": "code",
   "execution_count": 76,
   "id": "0ad130d3",
   "metadata": {},
   "outputs": [
    {
     "data": {
      "text/html": [
       "<div>\n",
       "<style scoped>\n",
       "    .dataframe tbody tr th:only-of-type {\n",
       "        vertical-align: middle;\n",
       "    }\n",
       "\n",
       "    .dataframe tbody tr th {\n",
       "        vertical-align: top;\n",
       "    }\n",
       "\n",
       "    .dataframe thead th {\n",
       "        text-align: right;\n",
       "    }\n",
       "</style>\n",
       "<table border=\"1\" class=\"dataframe\">\n",
       "  <thead>\n",
       "    <tr style=\"text-align: right;\">\n",
       "      <th></th>\n",
       "      <th>primary_label</th>\n",
       "      <th>inat_taxon_id</th>\n",
       "      <th>scientific_name</th>\n",
       "      <th>common_name</th>\n",
       "      <th>class_name</th>\n",
       "    </tr>\n",
       "  </thead>\n",
       "  <tbody>\n",
       "    <tr>\n",
       "      <th>0</th>\n",
       "      <td>1139490</td>\n",
       "      <td>1139490</td>\n",
       "      <td>Ragoniella pulchella</td>\n",
       "      <td>Ragoniella pulchella</td>\n",
       "      <td>Insecta</td>\n",
       "    </tr>\n",
       "    <tr>\n",
       "      <th>1</th>\n",
       "      <td>1192948</td>\n",
       "      <td>1192948</td>\n",
       "      <td>Oxyprora surinamensis</td>\n",
       "      <td>Oxyprora surinamensis</td>\n",
       "      <td>Insecta</td>\n",
       "    </tr>\n",
       "    <tr>\n",
       "      <th>2</th>\n",
       "      <td>1194042</td>\n",
       "      <td>1194042</td>\n",
       "      <td>Copiphora colombiae</td>\n",
       "      <td>Copiphora colombiae</td>\n",
       "      <td>Insecta</td>\n",
       "    </tr>\n",
       "    <tr>\n",
       "      <th>3</th>\n",
       "      <td>126247</td>\n",
       "      <td>126247</td>\n",
       "      <td>Leptodactylus insularum</td>\n",
       "      <td>Spotted Foam-nest Frog</td>\n",
       "      <td>Amphibia</td>\n",
       "    </tr>\n",
       "    <tr>\n",
       "      <th>4</th>\n",
       "      <td>1346504</td>\n",
       "      <td>1346504</td>\n",
       "      <td>Neoconocephalus brachypterus</td>\n",
       "      <td>Neoconocephalus brachypterus</td>\n",
       "      <td>Insecta</td>\n",
       "    </tr>\n",
       "  </tbody>\n",
       "</table>\n",
       "</div>"
      ],
      "text/plain": [
       "  primary_label  inat_taxon_id               scientific_name  \\\n",
       "0       1139490        1139490          Ragoniella pulchella   \n",
       "1       1192948        1192948         Oxyprora surinamensis   \n",
       "2       1194042        1194042           Copiphora colombiae   \n",
       "3        126247         126247       Leptodactylus insularum   \n",
       "4       1346504        1346504  Neoconocephalus brachypterus   \n",
       "\n",
       "                    common_name class_name  \n",
       "0          Ragoniella pulchella    Insecta  \n",
       "1         Oxyprora surinamensis    Insecta  \n",
       "2           Copiphora colombiae    Insecta  \n",
       "3        Spotted Foam-nest Frog   Amphibia  \n",
       "4  Neoconocephalus brachypterus    Insecta  "
      ]
     },
     "execution_count": 76,
     "metadata": {},
     "output_type": "execute_result"
    }
   ],
   "source": [
    "metadata.head()"
   ]
  },
  {
   "cell_type": "code",
   "execution_count": 77,
   "id": "f54e9d08",
   "metadata": {},
   "outputs": [
    {
     "data": {
      "text/plain": [
       "class_name\n",
       "Aves        146\n",
       "Amphibia     34\n",
       "Insecta      17\n",
       "Mammalia      9\n",
       "Name: count, dtype: int64"
      ]
     },
     "execution_count": 77,
     "metadata": {},
     "output_type": "execute_result"
    }
   ],
   "source": [
    "metadata[\"class_name\"].value_counts()"
   ]
  },
  {
   "cell_type": "code",
   "execution_count": 78,
   "id": "d89eb604",
   "metadata": {},
   "outputs": [
    {
     "data": {
      "text/plain": [
       "class_name\n",
       "Aves    146\n",
       "Name: count, dtype: int64"
      ]
     },
     "execution_count": 78,
     "metadata": {},
     "output_type": "execute_result"
    }
   ],
   "source": [
    "diffs = metadata[metadata[\"primary_label\"].astype(str) != metadata[\"inat_taxon_id\"].astype(str)]\n",
    "diffs['class_name'].value_counts()"
   ]
  },
  {
   "cell_type": "code",
   "execution_count": 79,
   "id": "14facac5",
   "metadata": {},
   "outputs": [
    {
     "data": {
      "text/plain": [
       "class_name\n",
       "Aves        146\n",
       "Amphibia     34\n",
       "Mammalia      9\n",
       "Insecta       3\n",
       "Name: count, dtype: int64"
      ]
     },
     "execution_count": 79,
     "metadata": {},
     "output_type": "execute_result"
    }
   ],
   "source": [
    "diffs_name = metadata[metadata[\"scientific_name\"].astype(str) != metadata[\"common_name\"].astype(str)]\n",
    "diffs_name[\"class_name\"].value_counts()"
   ]
  },
  {
   "cell_type": "markdown",
   "id": "e06d2198",
   "metadata": {},
   "source": [
    "## Metadata Summary – Key Findings\n",
    "\n",
    "- Total entries in metadata: **206 species**\n",
    "- Metadata contains 5 main columns:\n",
    "  - `primary_label` – unique identifier used in prediction\n",
    "  - `inat_taxon_id` – iNaturalist reference ID\n",
    "  - `scientific_name` – Latin binomial species name\n",
    "  - `common_name` – human-friendly name\n",
    "  - `class_name` – biological class\n",
    "\n",
    "### Class Distribution:\n",
    "- **Aves** (Birds): 146 species\n",
    "- **Amphibia** (Amphibians): 34 species\n",
    "- **Insecta** (Insects): 17 species\n",
    "- **Mammalia** (Mammals): 9 species\n",
    "\n",
    "### Label Consistency Check:\n",
    "- `primary_label` and `inat_taxon_id` are **visually similar**\n",
    "- After converting to `str`, found mismatches for all **146 Aves** entries\n",
    "- This inconsistency only affects **Bird species**\n",
    "\n",
    "### Naming Check:\n",
    "- In **14 species**, `scientific_name` and `common_name` are **identical**\n",
    "- All 14 of these cases belong to the **Insecta** class\n",
    "\n"
   ]
  }
 ],
 "metadata": {
  "kernelspec": {
   "display_name": "myenv",
   "language": "python",
   "name": "python3"
  },
  "language_info": {
   "codemirror_mode": {
    "name": "ipython",
    "version": 3
   },
   "file_extension": ".py",
   "mimetype": "text/x-python",
   "name": "python",
   "nbconvert_exporter": "python",
   "pygments_lexer": "ipython3",
   "version": "3.12.7"
  }
 },
 "nbformat": 4,
 "nbformat_minor": 5
}
